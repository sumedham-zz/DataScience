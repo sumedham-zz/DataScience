{
 "cells": [
  {
   "cell_type": "markdown",
   "metadata": {},
   "source": [
    "# Comparing Models to Predict March Madness Rankings\n",
    "\n",
    "\n",
    "March Madness, also known as the NCAA Division I Men's Basketball Tournament happens annually in the month of March. Depending on which teams performed the best in the season, the top 32 are selected to compete in the tournament and play each other in a bracket for the winners trophy. Although March Madness 2018 is already over, our team wanted to see which model would do a better job at predicting team rankings/winners. We decided to look at the Elo Model as well as use simple logistic regression with features we extracted in order to find a trend. "
   ]
  },
  {
   "attachments": {},
   "cell_type": "markdown",
   "metadata": {},
   "source": [
    "### Scraping the Data\n",
    "\n",
    "In order to scrape data, we used www.sports-reference.com/cbb (cbb = college basketball). We utilized the BeautifulSoup library to extract the features that we thought we would need for both models. In the following code the features extracted are in the _featuresWanted_ set. A typical page that we would scrape from looks like the following: \n",
    "\n",
    "\n",
    "<img src=\"files/cbbstatsex.png\">\n",
    "\n",
    "This data displays Villanova's game history for the year 2018 [found here](https://www.sports-reference.com/cbb/schools/villanova/2018-schedule.html). We used Beautiful Soup to gather all the table data and format it in a data frame. Because the scraping usually takes ~10 minutes, the code was run once and put into a csv file, which we later used to do our data analysis. \n"
   ]
  },
  {
   "cell_type": "code",
   "execution_count": null,
   "metadata": {
    "collapsed": true
   },
   "outputs": [],
   "source": [
    "from bs4 import BeautifulSoup\n",
    "from urllib.request import urlopen\n",
    "import pandas as pd\n",
    "\n",
    "\n",
    "def getSchools():\n",
    "    url = \"https://www.sports-reference.com/cbb/seasons/2018-school-stats.html\"\n",
    "    page = urlopen(url).read()\n",
    "    soup = BeautifulSoup(page)\n",
    "    count  = 0\n",
    "    table = soup.find(\"tbody\")\n",
    "    school_set = set()\n",
    "    for row in table.findAll('td', {\"data-stat\": \"school_name\"}):\n",
    "        for a in row.find_all('a', href=True):\n",
    "            link = a['href'].strip()\n",
    "            name = link[13:].split(\"/\")[0]\n",
    "            school_set.add(name)\n",
    "            \n",
    "    return school_set\n",
    "\n",
    "def getDfs():\n",
    "    school_set = getSchools()\n",
    "    dfs = []\n",
    "    final_df=pd.DataFrame()\n",
    "    for school in school_set: \n",
    "        url = \"https://www.sports-reference.com/cbb/schools/\" + school + \"/2018-schedule.html\"\n",
    "        page = urlopen(url).read()\n",
    "        soup = BeautifulSoup(page)\n",
    "        count = 0 \n",
    "        pre_df = dict()\n",
    "        school_set = getSchools()\n",
    "        table = soup.find(\"tbody\")\n",
    "        featuresWanted =  {'opp_name', 'pts', 'opp_pts', \n",
    "                           'game_location','game_result','overtimes','wins','losses', 'date_game'} #add more features here!!\n",
    "\n",
    "        rows = table.findChildren(['tr'])\n",
    "        for row in rows:\n",
    "            if (row.find('th', {\"scope\":\"row\"}) != None):\n",
    "\n",
    "                for f in featuresWanted:\n",
    "                    cell = row.find(\"td\",{\"data-stat\": f})\n",
    "\n",
    "                    a = cell.text.strip().encode()\n",
    "                    text=a.decode(\"utf-8\")\n",
    "                    if f in pre_df:\n",
    "                        pre_df[f].append(text)\n",
    "                    else:\n",
    "                        pre_df[f]=[text]\n",
    "            \n",
    "        df = pd.DataFrame.from_dict(pre_df)\n",
    "        df[\"opp_name\"]= df[\"opp_name\"].apply(lambda row: (row.split(\"(\")[0]).rstrip())\n",
    "        df[\"school_name\"]=school\n",
    "        final_df=pd.concat([final_df,df])\n",
    "    return final_df\n",
    "\n",
    "\n",
    "def csvDump():\n",
    "    df=getDfs()\n",
    "    df.to_csv(\"scraped_data.csv\")\n",
    "    \n",
    "    \n",
    "csvDump() #dump df into csv \n"
   ]
  },
  {
   "cell_type": "markdown",
   "metadata": {},
   "source": [
    "After creating the csv, our csv (in this same folder, called scraped_data.csv contained data about all games that were played in the 2017-2018 season. "
   ]
  },
  {
   "cell_type": "markdown",
   "metadata": {
    "collapsed": true
   },
   "source": [
    "## The Elo Model \n",
    "\n",
    "The Elo Model is a way of creating a rating system for zero-sum games - games that only have one winner and one loser (e.g. basketball, hockey, football, tennis, etc.) \n"
   ]
  },
  {
   "cell_type": "code",
   "execution_count": null,
   "metadata": {
    "collapsed": true
   },
   "outputs": [],
   "source": []
  }
 ],
 "metadata": {
  "kernelspec": {
   "display_name": "Python 3",
   "language": "python",
   "name": "python3"
  },
  "language_info": {
   "codemirror_mode": {
    "name": "ipython",
    "version": 3
   },
   "file_extension": ".py",
   "mimetype": "text/x-python",
   "name": "python",
   "nbconvert_exporter": "python",
   "pygments_lexer": "ipython3",
   "version": "3.6.3"
  }
 },
 "nbformat": 4,
 "nbformat_minor": 2
}
